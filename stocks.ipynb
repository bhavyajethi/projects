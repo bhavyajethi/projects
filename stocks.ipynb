{
 "cells": [
  {
   "cell_type": "code",
   "execution_count": 2,
   "metadata": {},
   "outputs": [
    {
     "name": "stderr",
     "output_type": "stream",
     "text": [
      "2024-06-15 20:40:39.594 \n",
      "  \u001b[33m\u001b[1mWarning:\u001b[0m to view this Streamlit app on a browser, run it with the following\n",
      "  command:\n",
      "\n",
      "    streamlit run C:\\Users\\91885\\AppData\\Roaming\\Python\\Python312\\site-packages\\ipykernel_launcher.py [ARGUMENTS]\n",
      "[*********************100%%**********************]  1 of 1 completed\n"
     ]
    },
    {
     "ename": "IndexError",
     "evalue": "tuple index out of range",
     "output_type": "error",
     "traceback": [
      "\u001b[1;31m---------------------------------------------------------------------------\u001b[0m",
      "\u001b[1;31mIndexError\u001b[0m                                Traceback (most recent call last)",
      "Cell \u001b[1;32mIn[2], line 51\u001b[0m\n\u001b[0;32m     48\u001b[0m     y\u001b[38;5;241m.\u001b[39mappend(scaled_data[i, \u001b[38;5;241m0\u001b[39m])\n\u001b[0;32m     49\u001b[0m X, y \u001b[38;5;241m=\u001b[39m np\u001b[38;5;241m.\u001b[39marray(X), np\u001b[38;5;241m.\u001b[39marray(y)\n\u001b[1;32m---> 51\u001b[0m X \u001b[38;5;241m=\u001b[39m X\u001b[38;5;241m.\u001b[39mreshape((X\u001b[38;5;241m.\u001b[39mshape[\u001b[38;5;241m0\u001b[39m], \u001b[43mX\u001b[49m\u001b[38;5;241;43m.\u001b[39;49m\u001b[43mshape\u001b[49m\u001b[43m[\u001b[49m\u001b[38;5;241;43m1\u001b[39;49m\u001b[43m]\u001b[49m, \u001b[38;5;241m1\u001b[39m))\n\u001b[0;32m     53\u001b[0m \u001b[38;5;66;03m# Build LSTM model\u001b[39;00m\n\u001b[0;32m     54\u001b[0m model \u001b[38;5;241m=\u001b[39m Sequential([\n\u001b[0;32m     55\u001b[0m     LSTM(units\u001b[38;5;241m=\u001b[39m\u001b[38;5;241m50\u001b[39m, return_sequences\u001b[38;5;241m=\u001b[39m\u001b[38;5;28;01mTrue\u001b[39;00m, input_shape\u001b[38;5;241m=\u001b[39m(X\u001b[38;5;241m.\u001b[39mshape[\u001b[38;5;241m1\u001b[39m], \u001b[38;5;241m1\u001b[39m)),\n\u001b[0;32m     56\u001b[0m     LSTM(units\u001b[38;5;241m=\u001b[39m\u001b[38;5;241m50\u001b[39m, return_sequences\u001b[38;5;241m=\u001b[39m\u001b[38;5;28;01mFalse\u001b[39;00m),\n\u001b[0;32m     57\u001b[0m     Dense(units\u001b[38;5;241m=\u001b[39m\u001b[38;5;241m1\u001b[39m)\n\u001b[0;32m     58\u001b[0m ])\n",
      "\u001b[1;31mIndexError\u001b[0m: tuple index out of range"
     ]
    }
   ],
   "source": [
    "import streamlit as st\n",
    "import pandas as pd\n",
    "import numpy as np\n",
    "import yfinance as yf\n",
    "from sklearn.preprocessing import MinMaxScaler\n",
    "from tensorflow.keras.models import Sequential\n",
    "from tensorflow.keras.layers import LSTM, Dense\n",
    "from prophet import Prophet\n",
    "from prophet.plot import plot_plotly\n",
    "import plotly.graph_objs as go\n",
    "\n",
    "st.title('Stock Price Prediction App')\n",
    "\n",
    "# Sidebar\n",
    "st.sidebar.title('Settings')\n",
    "stock_symbol = st.sidebar.text_input('Enter Stock Symbol (e.g., AAPL for Apple)', 'AAPL')\n",
    "period = st.sidebar.selectbox('Select Time Period', ['1d', '5d', '1mo', '3mo', '6mo', '1y', '2y', '5y', '10y', 'ytd', 'max'])\n",
    "\n",
    "def load_data(symbol, period):\n",
    "    data = yf.download(symbol, period=period)\n",
    "    return data\n",
    "\n",
    "data_load_state = st.text('Loading data...')\n",
    "data = load_data(stock_symbol, period)\n",
    "data_load_state.text('Data loaded successfully!')\n",
    "\n",
    "st.subheader('Raw Data')\n",
    "st.write(data)\n",
    "\n",
    "# Plotting\n",
    "st.subheader('Interactive Stock Price Plot')\n",
    "trace1 = go.Scatter(x=data.index, y=data['Close'], mode='lines', name='Close')\n",
    "layout = go.Layout(title='Interactive Stock Price Plot', xaxis_title='Date', yaxis_title='Close Price')\n",
    "fig = go.Figure(data=[trace1], layout=layout)\n",
    "st.plotly_chart(fig, use_container_width=True)\n",
    "\n",
    "# LSTM Model\n",
    "st.subheader('LSTM Model')\n",
    "\n",
    "# Prepare data for LSTM\n",
    "scaler = MinMaxScaler()\n",
    "scaled_data = scaler.fit_transform(data[['Close']])\n",
    "\n",
    "window_size = 60\n",
    "X, y = [], []\n",
    "for i in range(window_size, len(data)):\n",
    "    X.append(scaled_data[i-window_size:i, 0])\n",
    "    y.append(scaled_data[i, 0])\n",
    "X, y = np.array(X), np.array(y)\n",
    "\n",
    "X = X.reshape((X.shape[0], X.shape[1], 1))\n",
    "\n",
    "# Build LSTM model\n",
    "model = Sequential([\n",
    "    LSTM(units=50, return_sequences=True, input_shape=(X.shape[1], 1)),\n",
    "    LSTM(units=50, return_sequences=False),\n",
    "    Dense(units=1)\n",
    "])\n",
    "\n",
    "# Compile the model\n",
    "model.compile(optimizer='adam', loss='mean_squared_error')\n",
    "\n",
    "# Train the model\n",
    "model.fit(X, y, epochs=10, batch_size=32)\n",
    "\n",
    "# Make predictions\n",
    "predictions = model.predict(X[-1].reshape(1, window_size, 1))\n",
    "predicted_price = scaler.inverse_transform(predictions)[0][0]\n",
    "\n",
    "st.write(f'Predicted Closing Price (Next Day): {predicted_price}')\n",
    "\n",
    "# Prophet Forecasting\n",
    "st.subheader('Prophet Forecasting')\n",
    "\n",
    "df_prophet = data.reset_index()[['Date', 'Close']].rename(columns={'Date':'ds', 'Close':'y'})\n",
    "m = Prophet()\n",
    "m.fit(df_prophet)\n",
    "future = m.make_future_dataframe(periods=365)\n",
    "forecast = m.predict(future)\n",
    "fig = plot_plotly(m, forecast)\n",
    "st.plotly_chart(fig)\n"
   ]
  }
 ],
 "metadata": {
  "kernelspec": {
   "display_name": "Python 3",
   "language": "python",
   "name": "python3"
  },
  "language_info": {
   "codemirror_mode": {
    "name": "ipython",
    "version": 3
   },
   "file_extension": ".py",
   "mimetype": "text/x-python",
   "name": "python",
   "nbconvert_exporter": "python",
   "pygments_lexer": "ipython3",
   "version": "3.12.2"
  }
 },
 "nbformat": 4,
 "nbformat_minor": 2
}
